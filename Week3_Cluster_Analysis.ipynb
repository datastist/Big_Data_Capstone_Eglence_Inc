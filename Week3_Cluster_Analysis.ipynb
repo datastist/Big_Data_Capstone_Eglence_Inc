{
  "nbformat": 4,
  "nbformat_minor": 0,
  "metadata": {
    "colab": {
      "name": "Week3_Cluster_Analysis.ipynb",
      "version": "0.3.2",
      "provenance": []
    },
    "language_info": {
      "codemirror_mode": {
        "name": "ipython",
        "version": 3
      },
      "file_extension": ".py",
      "mimetype": "text/x-python",
      "name": "python",
      "nbconvert_exporter": "python",
      "pygments_lexer": "ipython3",
      "version": "3.5.1"
    },
    "kernelspec": {
      "display_name": "Python 3",
      "language": "python",
      "name": "python3"
    }
  },
  "cells": [
    {
      "cell_type": "markdown",
      "metadata": {
        "id": "isAgtwgQlojV",
        "colab_type": "text"
      },
      "source": [
        "# **Attribute selection and clustering using Spark**"
      ]
    },
    {
      "cell_type": "markdown",
      "metadata": {
        "id": "uTIRkEQjJMtt",
        "colab_type": "text"
      },
      "source": [
        "This notebook shows the clustering section of the analysis that has run on a processing cluster on Cloudera Distribution. Steps completed in this research are attribute selection, aggregation, and clustering of the resulting dataset"
      ]
    },
    {
      "cell_type": "markdown",
      "metadata": {
        "id": "40lLUHUQOUye",
        "colab_type": "text"
      },
      "source": [
        "importing required libraries"
      ]
    },
    {
      "cell_type": "code",
      "metadata": {
        "id": "RDGrkTGflk_4",
        "colab_type": "code",
        "colab": {}
      },
      "source": [
        "from pyspark.sql import SQLContext\n",
        "from pyspark.ml.clustering import KMeans\n",
        "from pyspark.ml.feature import VectorAssembler\n",
        "from pyspark.ml.feature import StandardScaler"
      ],
      "execution_count": 0,
      "outputs": []
    },
    {
      "cell_type": "markdown",
      "metadata": {
        "id": "DPL7-BHkOfjB",
        "colab_type": "text"
      },
      "source": [
        "Loading csv files into spark dataframes. Note that these files' paths should be changed according to the location in your cloudera distro. Datasets are available in github repo."
      ]
    },
    {
      "cell_type": "code",
      "metadata": {
        "id": "SEXXrSlSlk__",
        "colab_type": "code",
        "colab": {}
      },
      "source": [
        "sqlContext = SQLContext(sc)\n",
        "adclicks = sqlContext.read.load('file:///home/cloudera/Downloads/big_data_capstone_datasets_and_scripts/ad-clicks.csv',\n",
        "                            format = 'com.databricks.spark.csv', \n",
        "                            header = 'true',\n",
        "                            inferSchema = 'true')\n",
        "buyclicks = sqlContext.read.load('file:///home/cloudera/Downloads/big_data_capstone_datasets_and_scripts/buy-clicks.csv',\n",
        "                            format = 'com.databricks.spark.csv', \n",
        "                            header = 'true',\n",
        "                            inferSchema = 'true')\n",
        "gameclicks = sqlContext.read.load('file:///home/cloudera/Downloads/big_data_capstone_datasets_and_scripts/game-clicks.csv',\n",
        "                            format = 'com.databricks.spark.csv', \n",
        "                            header = 'true',\n",
        "                            inferSchema = 'true')"
      ],
      "execution_count": 0,
      "outputs": []
    },
    {
      "cell_type": "markdown",
      "metadata": {
        "id": "_2LDwGi8PIs3",
        "colab_type": "text"
      },
      "source": [
        "Printing number of entities of each file"
      ]
    },
    {
      "cell_type": "code",
      "metadata": {
        "id": "2txy0gHAllAD",
        "colab_type": "code",
        "colab": {},
        "outputId": "a67c5b37-2143-42a0-fea2-78c1d2f1767c"
      },
      "source": [
        "print(adclicks.count(), buyclicks.count(), gameclicks.count())"
      ],
      "execution_count": 0,
      "outputs": [
        {
          "output_type": "stream",
          "text": [
            "16323 2947 755806\n"
          ],
          "name": "stdout"
        }
      ]
    },
    {
      "cell_type": "markdown",
      "metadata": {
        "id": "SSplcdonPPwV",
        "colab_type": "text"
      },
      "source": [
        "**Total number of ad-clicks per user:**\n",
        "This feature distinguishes users that pay attention to in-app ads and those users that just close the ads after they pop up. It can be a rough sign of a curious personality of the users that also can make money for the company. These users are the target for money making ad campaigns."
      ]
    },
    {
      "cell_type": "code",
      "metadata": {
        "id": "svvnRxwFllAJ",
        "colab_type": "code",
        "colab": {},
        "outputId": "79bff172-75bf-4fa6-ee91-ff505087bea9"
      },
      "source": [
        "user_adclicks = adclicks.groupBy('userId').count().withColumnRenamed('count', 'Total_ad_Clicks')\n",
        "user_adclicks.count()"
      ],
      "execution_count": 0,
      "outputs": [
        {
          "output_type": "execute_result",
          "data": {
            "text/plain": [
              "597"
            ]
          },
          "metadata": {
            "tags": []
          },
          "execution_count": 110
        }
      ]
    },
    {
      "cell_type": "markdown",
      "metadata": {
        "id": "eX4nKOOkQnTT",
        "colab_type": "text"
      },
      "source": [
        "Let's look at the first 5 entries"
      ]
    },
    {
      "cell_type": "code",
      "metadata": {
        "id": "RWGR-1L-llAO",
        "colab_type": "code",
        "colab": {},
        "outputId": "8776b430-8b97-45f7-fe6b-37206d86c00c"
      },
      "source": [
        "user_adclicks.take(5)"
      ],
      "execution_count": 0,
      "outputs": [
        {
          "output_type": "execute_result",
          "data": {
            "text/plain": [
              "[Row(userId=231, Total_ad_Clicks=19),\n",
              " Row(userId=2032, Total_ad_Clicks=39),\n",
              " Row(userId=233, Total_ad_Clicks=37),\n",
              " Row(userId=433, Total_ad_Clicks=11),\n",
              " Row(userId=1234, Total_ad_Clicks=41)]"
            ]
          },
          "metadata": {
            "tags": []
          },
          "execution_count": 111
        }
      ]
    },
    {
      "cell_type": "markdown",
      "metadata": {
        "id": "w9Uy0VjTQ1O2",
        "colab_type": "text"
      },
      "source": [
        "**Some of the money spent on all ad categories by each user:**\n",
        "This is a good feature to show how ad campaigns are working. This attribute is different from in-app purchases. "
      ]
    },
    {
      "cell_type": "code",
      "metadata": {
        "id": "jJ2qldx-llAS",
        "colab_type": "code",
        "colab": {},
        "outputId": "050fb5cf-039a-44aa-ad80-d5631fb739a5"
      },
      "source": [
        "user_buyclicks = buyclicks.groupBy('userId').sum().select('userId', 'sum(price)')  \\\n",
        "                          .withColumnRenamed('sum(price)', 'Total_buy($)')\n",
        "user_buyclicks.count()"
      ],
      "execution_count": 0,
      "outputs": [
        {
          "output_type": "execute_result",
          "data": {
            "text/plain": [
              "546"
            ]
          },
          "metadata": {
            "tags": []
          },
          "execution_count": 112
        }
      ]
    },
    {
      "cell_type": "markdown",
      "metadata": {
        "id": "mNRSsRFNRHD4",
        "colab_type": "text"
      },
      "source": [
        "And first 5 rows are as below"
      ]
    },
    {
      "cell_type": "code",
      "metadata": {
        "id": "qoh4ypRYllAX",
        "colab_type": "code",
        "colab": {},
        "outputId": "edf2bc89-756a-4b5a-99d4-cb0744d3a32e"
      },
      "source": [
        "user_buyclicks.take(5)"
      ],
      "execution_count": 0,
      "outputs": [
        {
          "output_type": "execute_result",
          "data": {
            "text/plain": [
              "[Row(userId=231, Total_buy($)=63.0),\n",
              " Row(userId=2032, Total_buy($)=20.0),\n",
              " Row(userId=233, Total_buy($)=28.0),\n",
              " Row(userId=1234, Total_buy($)=53.0),\n",
              " Row(userId=1634, Total_buy($)=27.0)]"
            ]
          },
          "metadata": {
            "tags": []
          },
          "execution_count": 113
        }
      ]
    },
    {
      "cell_type": "markdown",
      "metadata": {
        "id": "TO_5pcVbRMoS",
        "colab_type": "text"
      },
      "source": [
        "To work with datetime related functions are imported."
      ]
    },
    {
      "cell_type": "code",
      "metadata": {
        "id": "3mHhC1UCllAb",
        "colab_type": "code",
        "colab": {}
      },
      "source": [
        "from pyspark.sql.functions import format_number, dayofmonth, hour, dayofyear, month, year, weekofyear, date_format"
      ],
      "execution_count": 0,
      "outputs": []
    },
    {
      "cell_type": "markdown",
      "metadata": {
        "id": "PnExqUMrRc3T",
        "colab_type": "text"
      },
      "source": [
        "**Game clicks per hour by each user:**\n",
        "This feature is a measure of spending time and user interaction with the app. That is the mean of clicks by each user on a window of one hour. It shows another aspect of users’ behavior. "
      ]
    },
    {
      "cell_type": "code",
      "metadata": {
        "id": "8-S08UVZllAe",
        "colab_type": "code",
        "colab": {},
        "outputId": "86cb33ac-3fb4-4905-f184-9920d8fac843"
      },
      "source": [
        "user_gameclicks = gameclicks.groupBy(['userId', dayofyear(gameclicks.timestamp), hour(gameclicks.timestamp)])  \\\n",
        "            .count().select('userId', 'count')  \\\n",
        "            .groupBy('userId').mean()  \\\n",
        "            .select('userId', 'avg(count)')  \\\n",
        "            .withColumnRenamed('avg(count)', 'avg_game_clicks_per_hour')\n",
        "user_gameclicks.count()"
      ],
      "execution_count": 0,
      "outputs": [
        {
          "output_type": "execute_result",
          "data": {
            "text/plain": [
              "1193"
            ]
          },
          "metadata": {
            "tags": []
          },
          "execution_count": 114
        }
      ]
    },
    {
      "cell_type": "markdown",
      "metadata": {
        "id": "FnD2gjtvRqb_",
        "colab_type": "text"
      },
      "source": [
        "First 5 rows shows the resulting dataframe"
      ]
    },
    {
      "cell_type": "code",
      "metadata": {
        "id": "b5oPdnqAllAi",
        "colab_type": "code",
        "colab": {},
        "outputId": "9a2af034-76dd-44b9-927e-b0b2d116ab1c"
      },
      "source": [
        "user_gameclicks.take(5)"
      ],
      "execution_count": 0,
      "outputs": [
        {
          "output_type": "execute_result",
          "data": {
            "text/plain": [
              "[Row(userId=2231, avg_game_clicks_per_hour=1.5963636363636364),\n",
              " Row(userId=1631, avg_game_clicks_per_hour=1.6213235294117647),\n",
              " Row(userId=2031, avg_game_clicks_per_hour=8.08626198083067),\n",
              " Row(userId=231, avg_game_clicks_per_hour=2.3248407643312103),\n",
              " Row(userId=2032, avg_game_clicks_per_hour=2.051051051051051)]"
            ]
          },
          "metadata": {
            "tags": []
          },
          "execution_count": 115
        }
      ]
    },
    {
      "cell_type": "markdown",
      "metadata": {
        "id": "2PEdiuaaRxSB",
        "colab_type": "text"
      },
      "source": [
        "For clustering purpose these dataframe should be joined together with userId column as key. "
      ]
    },
    {
      "cell_type": "code",
      "metadata": {
        "id": "Vb7AjeMQllAn",
        "colab_type": "code",
        "colab": {},
        "outputId": "c80905af-a5d0-433b-de84-ba2bb22a50b1"
      },
      "source": [
        "df = user_gameclicks.join(user_adclicks, 'userId').join(user_buyclicks, 'userId')\n",
        "df = df.drop('userId')\n",
        "df.count()"
      ],
      "execution_count": 0,
      "outputs": [
        {
          "output_type": "execute_result",
          "data": {
            "text/plain": [
              "543"
            ]
          },
          "metadata": {
            "tags": []
          },
          "execution_count": 139
        }
      ]
    },
    {
      "cell_type": "markdown",
      "metadata": {
        "id": "YUg1SztFSHOn",
        "colab_type": "text"
      },
      "source": [
        "Finally, let's look at the final dataframe that is used for clustering users"
      ]
    },
    {
      "cell_type": "code",
      "metadata": {
        "id": "jFpRJzk_llAr",
        "colab_type": "code",
        "colab": {},
        "outputId": "89824b92-a634-4bfb-a59f-853a1af724b7"
      },
      "source": [
        "df.take(5)"
      ],
      "execution_count": 0,
      "outputs": [
        {
          "output_type": "execute_result",
          "data": {
            "text/plain": [
              "[Row(avg_game_clicks_per_hour=2.3248407643312103, Total_ad_Clicks=19, Total_buy($)=63.0),\n",
              " Row(avg_game_clicks_per_hour=2.051051051051051, Total_ad_Clicks=39, Total_buy($)=20.0),\n",
              " Row(avg_game_clicks_per_hour=1.3732057416267942, Total_ad_Clicks=37, Total_buy($)=28.0),\n",
              " Row(avg_game_clicks_per_hour=2.629139072847682, Total_ad_Clicks=34, Total_buy($)=95.0),\n",
              " Row(avg_game_clicks_per_hour=1.9754601226993864, Total_ad_Clicks=41, Total_buy($)=53.0)]"
            ]
          },
          "metadata": {
            "tags": []
          },
          "execution_count": 140
        }
      ]
    },
    {
      "cell_type": "markdown",
      "metadata": {
        "id": "HBSrJt5zShIt",
        "colab_type": "text"
      },
      "source": [
        "The size of the dataframe is as below"
      ]
    },
    {
      "cell_type": "code",
      "metadata": {
        "id": "Q5--6I0LllAw",
        "colab_type": "code",
        "colab": {},
        "outputId": "feb533f8-8d64-4e9a-9ad0-046afbb8d958"
      },
      "source": [
        "print(df.count(), len(df.columns))"
      ],
      "execution_count": 0,
      "outputs": [
        {
          "output_type": "stream",
          "text": [
            "543 3\n"
          ],
          "name": "stdout"
        }
      ]
    },
    {
      "cell_type": "markdown",
      "metadata": {
        "id": "0LIL9Nh2Sn_G",
        "colab_type": "text"
      },
      "source": [
        "Checking the description of each column for any missing value"
      ]
    },
    {
      "cell_type": "code",
      "metadata": {
        "id": "lih8QEsZllA4",
        "colab_type": "code",
        "colab": {},
        "outputId": "6d25b2bd-b65d-408b-ebc1-bd68ab52696d"
      },
      "source": [
        "df.describe().toPandas().transpose()"
      ],
      "execution_count": 0,
      "outputs": [
        {
          "output_type": "execute_result",
          "data": {
            "text/html": [
              "<div>\n",
              "<table border=\"1\" class=\"dataframe\">\n",
              "  <thead>\n",
              "    <tr style=\"text-align: right;\">\n",
              "      <th></th>\n",
              "      <th>0</th>\n",
              "      <th>1</th>\n",
              "      <th>2</th>\n",
              "      <th>3</th>\n",
              "      <th>4</th>\n",
              "    </tr>\n",
              "  </thead>\n",
              "  <tbody>\n",
              "    <tr>\n",
              "      <th>summary</th>\n",
              "      <td>count</td>\n",
              "      <td>mean</td>\n",
              "      <td>stddev</td>\n",
              "      <td>min</td>\n",
              "      <td>max</td>\n",
              "    </tr>\n",
              "    <tr>\n",
              "      <th>userId</th>\n",
              "      <td>543</td>\n",
              "      <td>1215.3499079189687</td>\n",
              "      <td>684.1697334741</td>\n",
              "      <td>1</td>\n",
              "      <td>2387</td>\n",
              "    </tr>\n",
              "    <tr>\n",
              "      <th>avg_game_clicks_per_hour</th>\n",
              "      <td>543</td>\n",
              "      <td>3.05137382268546</td>\n",
              "      <td>2.0878902003169872</td>\n",
              "      <td>1.3636363636363635</td>\n",
              "      <td>20.19298245614035</td>\n",
              "    </tr>\n",
              "    <tr>\n",
              "      <th>Total_ad_Clicks</th>\n",
              "      <td>543</td>\n",
              "      <td>29.373848987108655</td>\n",
              "      <td>15.216343215129635</td>\n",
              "      <td>1</td>\n",
              "      <td>67</td>\n",
              "    </tr>\n",
              "    <tr>\n",
              "      <th>Total_buy($)</th>\n",
              "      <td>543</td>\n",
              "      <td>39.34990791896869</td>\n",
              "      <td>41.221736767084764</td>\n",
              "      <td>1.0</td>\n",
              "      <td>223.0</td>\n",
              "    </tr>\n",
              "  </tbody>\n",
              "</table>\n",
              "</div>"
            ],
            "text/plain": [
              "                              0                   1                   2  \\\n",
              "summary                   count                mean              stddev   \n",
              "userId                      543  1215.3499079189687      684.1697334741   \n",
              "avg_game_clicks_per_hour    543    3.05137382268546  2.0878902003169872   \n",
              "Total_ad_Clicks             543  29.373848987108655  15.216343215129635   \n",
              "Total_buy($)                543   39.34990791896869  41.221736767084764   \n",
              "\n",
              "                                           3                  4  \n",
              "summary                                  min                max  \n",
              "userId                                     1               2387  \n",
              "avg_game_clicks_per_hour  1.3636363636363635  20.19298245614035  \n",
              "Total_ad_Clicks                            1                 67  \n",
              "Total_buy($)                             1.0              223.0  "
            ]
          },
          "metadata": {
            "tags": []
          },
          "execution_count": 133
        }
      ]
    },
    {
      "cell_type": "markdown",
      "metadata": {
        "id": "9BnrZuyuTG_N",
        "colab_type": "text"
      },
      "source": [
        "Extracting column names as it's needed for using the VectorAssembler class"
      ]
    },
    {
      "cell_type": "code",
      "metadata": {
        "id": "RxYnldd7llBC",
        "colab_type": "code",
        "colab": {},
        "outputId": "9e2d4dfe-0408-472a-a61d-c6f5686a099b"
      },
      "source": [
        "df.columns"
      ],
      "execution_count": 0,
      "outputs": [
        {
          "output_type": "execute_result",
          "data": {
            "text/plain": [
              "['avg_game_clicks_per_hour', 'Total_ad_Clicks', 'Total_buy($)']"
            ]
          },
          "metadata": {
            "tags": []
          },
          "execution_count": 142
        }
      ]
    },
    {
      "cell_type": "markdown",
      "metadata": {
        "id": "WPJ_dQxOTmOj",
        "colab_type": "text"
      },
      "source": [
        "Combining columns of the dataset to prepare for StandardScaler"
      ]
    },
    {
      "cell_type": "code",
      "metadata": {
        "id": "gx4SkxbTllBI",
        "colab_type": "code",
        "colab": {}
      },
      "source": [
        "featuresUsed = ['avg_game_clicks_per_hour', 'Total_ad_Clicks', 'Total_buy($)']\n",
        "assembler = VectorAssembler(inputCols=featuresUsed, outputCol=\"features_unscaled\")\n",
        "assembled = assembler.transform(df)"
      ],
      "execution_count": 0,
      "outputs": []
    },
    {
      "cell_type": "code",
      "metadata": {
        "id": "Q0iQM6EHllBL",
        "colab_type": "code",
        "colab": {},
        "outputId": "5328c7df-401b-4fb7-f64b-267494e923ed"
      },
      "source": [
        "assembled.take(5)"
      ],
      "execution_count": 0,
      "outputs": [
        {
          "output_type": "execute_result",
          "data": {
            "text/plain": [
              "[Row(avg_game_clicks_per_hour=2.3248407643312103, Total_ad_Clicks=19, Total_buy($)=63.0, features_unscaled=DenseVector([2.3248, 19.0, 63.0])),\n",
              " Row(avg_game_clicks_per_hour=2.051051051051051, Total_ad_Clicks=39, Total_buy($)=20.0, features_unscaled=DenseVector([2.0511, 39.0, 20.0])),\n",
              " Row(avg_game_clicks_per_hour=1.3732057416267942, Total_ad_Clicks=37, Total_buy($)=28.0, features_unscaled=DenseVector([1.3732, 37.0, 28.0])),\n",
              " Row(avg_game_clicks_per_hour=2.629139072847682, Total_ad_Clicks=34, Total_buy($)=95.0, features_unscaled=DenseVector([2.6291, 34.0, 95.0])),\n",
              " Row(avg_game_clicks_per_hour=1.9754601226993864, Total_ad_Clicks=41, Total_buy($)=53.0, features_unscaled=DenseVector([1.9755, 41.0, 53.0]))]"
            ]
          },
          "metadata": {
            "tags": []
          },
          "execution_count": 144
        }
      ]
    },
    {
      "cell_type": "markdown",
      "metadata": {
        "id": "xR_2k78OT3FE",
        "colab_type": "text"
      },
      "source": [
        "Scaling the data with mean and standard deviation"
      ]
    },
    {
      "cell_type": "code",
      "metadata": {
        "id": "_YiMa2IJllBR",
        "colab_type": "code",
        "colab": {}
      },
      "source": [
        "scaler = StandardScaler(inputCol=\"features_unscaled\", outputCol=\"features\", withStd=True, withMean=True)\n",
        "scalerModel=scaler.fit(assembled)\n",
        "scaledData=scalerModel.transform(assembled)"
      ],
      "execution_count": 0,
      "outputs": []
    },
    {
      "cell_type": "code",
      "metadata": {
        "id": "f-tICsR5llBU",
        "colab_type": "code",
        "colab": {},
        "outputId": "bb289d2e-18a0-485f-e19b-9dd084ef19f0"
      },
      "source": [
        "scaledData.take(5)"
      ],
      "execution_count": 0,
      "outputs": [
        {
          "output_type": "execute_result",
          "data": {
            "text/plain": [
              "[Row(avg_game_clicks_per_hour=2.3248407643312103, Total_ad_Clicks=19, Total_buy($)=63.0, features_unscaled=DenseVector([2.3248, 19.0, 63.0]), features=DenseVector([-0.348, -0.6818, 0.5737])),\n",
              " Row(avg_game_clicks_per_hour=2.051051051051051, Total_ad_Clicks=39, Total_buy($)=20.0, features_unscaled=DenseVector([2.0511, 39.0, 20.0]), features=DenseVector([-0.4791, 0.6326, -0.4694])),\n",
              " Row(avg_game_clicks_per_hour=1.3732057416267942, Total_ad_Clicks=37, Total_buy($)=28.0, features_unscaled=DenseVector([1.3732, 37.0, 28.0]), features=DenseVector([-0.8038, 0.5012, -0.2753])),\n",
              " Row(avg_game_clicks_per_hour=2.629139072847682, Total_ad_Clicks=34, Total_buy($)=95.0, features_unscaled=DenseVector([2.6291, 34.0, 95.0]), features=DenseVector([-0.2022, 0.304, 1.35])),\n",
              " Row(avg_game_clicks_per_hour=1.9754601226993864, Total_ad_Clicks=41, Total_buy($)=53.0, features_unscaled=DenseVector([1.9755, 41.0, 53.0]), features=DenseVector([-0.5153, 0.7641, 0.3311]))]"
            ]
          },
          "metadata": {
            "tags": []
          },
          "execution_count": 146
        }
      ]
    },
    {
      "cell_type": "code",
      "metadata": {
        "id": "NTRT4C7BllBY",
        "colab_type": "code",
        "colab": {},
        "outputId": "30897f95-ec24-43b6-accc-609fc4814093"
      },
      "source": [
        "scaledData=scaledData.select(\"features\")\n",
        "scaledData.persist()"
      ],
      "execution_count": 0,
      "outputs": [
        {
          "output_type": "execute_result",
          "data": {
            "text/plain": [
              "DataFrame[features: vector]"
            ]
          },
          "metadata": {
            "tags": []
          },
          "execution_count": 147
        }
      ]
    },
    {
      "cell_type": "markdown",
      "metadata": {
        "id": "elM7nuW1aQRT",
        "colab_type": "text"
      },
      "source": [
        "Running a K-Means clustering algorithm with three clusters, and printing the center of each cluster"
      ]
    },
    {
      "cell_type": "code",
      "metadata": {
        "id": "NdHp8dd3llBc",
        "colab_type": "code",
        "colab": {}
      },
      "source": [
        "kmeans=KMeans(k=3, seed=1)\n",
        "model=kmeans.fit(scaledData)\n",
        "transformed=model.transform(scaledData)"
      ],
      "execution_count": 0,
      "outputs": []
    },
    {
      "cell_type": "code",
      "metadata": {
        "id": "JbNRL4ebllBf",
        "colab_type": "code",
        "colab": {},
        "outputId": "34c7c121-57e7-4c60-efe8-9d7337fd5660"
      },
      "source": [
        "centers = model.clusterCenters()\n",
        "centers"
      ],
      "execution_count": 0,
      "outputs": [
        {
          "output_type": "execute_result",
          "data": {
            "text/plain": [
              "[array([ 0.34491307, -0.88428349, -0.4376942 ]),\n",
              " array([-0.21638267,  0.72866978,  2.00843352]),\n",
              " array([-0.34502313,  0.8193491 , -0.21235772])]"
            ]
          },
          "metadata": {
            "tags": []
          },
          "execution_count": 151
        }
      ]
    },
    {
      "cell_type": "code",
      "metadata": {
        "id": "NqrVWALcllBk",
        "colab_type": "code",
        "colab": {}
      },
      "source": [
        ""
      ],
      "execution_count": 0,
      "outputs": []
    }
  ]
}