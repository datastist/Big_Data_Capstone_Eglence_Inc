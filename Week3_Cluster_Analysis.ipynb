{
 "cells": [
  {
   "cell_type": "code",
   "execution_count": 49,
   "metadata": {
    "collapsed": true
   },
   "outputs": [],
   "source": [
    "from pyspark.sql import SQLContext\n",
    "from pyspark.ml.clustering import KMeans\n",
    "from pyspark.ml.feature import VectorAssembler\n",
    "from pyspark.ml.feature import StandardScaler"
   ]
  },
  {
   "cell_type": "code",
   "execution_count": 103,
   "metadata": {
    "collapsed": true
   },
   "outputs": [],
   "source": [
    "sqlContext = SQLContext(sc)\n",
    "adclicks = sqlContext.read.load('file:///home/cloudera/Downloads/big_data_capstone_datasets_and_scripts/ad-clicks.csv',\n",
    "                            format = 'com.databricks.spark.csv', \n",
    "                            header = 'true',\n",
    "                            inferSchema = 'true')\n",
    "buyclicks = sqlContext.read.load('file:///home/cloudera/Downloads/big_data_capstone_datasets_and_scripts/buy-clicks.csv',\n",
    "                            format = 'com.databricks.spark.csv', \n",
    "                            header = 'true',\n",
    "                            inferSchema = 'true')\n",
    "gameclicks = sqlContext.read.load('file:///home/cloudera/Downloads/big_data_capstone_datasets_and_scripts/game-clicks.csv',\n",
    "                            format = 'com.databricks.spark.csv', \n",
    "                            header = 'true',\n",
    "                            inferSchema = 'true')"
   ]
  },
  {
   "cell_type": "code",
   "execution_count": 104,
   "metadata": {
    "collapsed": false
   },
   "outputs": [
    {
     "name": "stdout",
     "output_type": "stream",
     "text": [
      "16323 2947 755806\n"
     ]
    }
   ],
   "source": [
    "print(adclicks.count(), buyclicks.count(), gameclicks.count())"
   ]
  },
  {
   "cell_type": "code",
   "execution_count": 110,
   "metadata": {
    "collapsed": false
   },
   "outputs": [
    {
     "data": {
      "text/plain": [
       "597"
      ]
     },
     "execution_count": 110,
     "metadata": {},
     "output_type": "execute_result"
    }
   ],
   "source": [
    "user_adclicks = adclicks.groupBy('userId').count().withColumnRenamed('count', 'Total_ad_Clicks')\n",
    "user_adclicks.count()"
   ]
  },
  {
   "cell_type": "code",
   "execution_count": 111,
   "metadata": {
    "collapsed": false
   },
   "outputs": [
    {
     "data": {
      "text/plain": [
       "[Row(userId=231, Total_ad_Clicks=19),\n",
       " Row(userId=2032, Total_ad_Clicks=39),\n",
       " Row(userId=233, Total_ad_Clicks=37),\n",
       " Row(userId=433, Total_ad_Clicks=11),\n",
       " Row(userId=1234, Total_ad_Clicks=41)]"
      ]
     },
     "execution_count": 111,
     "metadata": {},
     "output_type": "execute_result"
    }
   ],
   "source": [
    "user_adclicks.take(5)"
   ]
  },
  {
   "cell_type": "code",
   "execution_count": 112,
   "metadata": {
    "collapsed": false
   },
   "outputs": [
    {
     "data": {
      "text/plain": [
       "546"
      ]
     },
     "execution_count": 112,
     "metadata": {},
     "output_type": "execute_result"
    }
   ],
   "source": [
    "user_buyclicks = buyclicks.groupBy('userId').sum().select('userId', 'sum(price)')  \\\n",
    "                          .withColumnRenamed('sum(price)', 'Total_buy($)')\n",
    "user_buyclicks.count()"
   ]
  },
  {
   "cell_type": "code",
   "execution_count": 113,
   "metadata": {
    "collapsed": false
   },
   "outputs": [
    {
     "data": {
      "text/plain": [
       "[Row(userId=231, Total_buy($)=63.0),\n",
       " Row(userId=2032, Total_buy($)=20.0),\n",
       " Row(userId=233, Total_buy($)=28.0),\n",
       " Row(userId=1234, Total_buy($)=53.0),\n",
       " Row(userId=1634, Total_buy($)=27.0)]"
      ]
     },
     "execution_count": 113,
     "metadata": {},
     "output_type": "execute_result"
    }
   ],
   "source": [
    "user_buyclicks.take(5)"
   ]
  },
  {
   "cell_type": "code",
   "execution_count": 57,
   "metadata": {
    "collapsed": false
   },
   "outputs": [],
   "source": [
    "from pyspark.sql.functions import format_number, dayofmonth, hour, dayofyear, month, year, weekofyear, date_format"
   ]
  },
  {
   "cell_type": "code",
   "execution_count": 114,
   "metadata": {
    "collapsed": false
   },
   "outputs": [
    {
     "data": {
      "text/plain": [
       "1193"
      ]
     },
     "execution_count": 114,
     "metadata": {},
     "output_type": "execute_result"
    }
   ],
   "source": [
    "user_gameclicks = gameclicks.groupBy(['userId', dayofyear(gameclicks.timestamp), hour(gameclicks.timestamp)])  \\\n",
    "            .count().select('userId', 'count')  \\\n",
    "            .groupBy('userId').mean()  \\\n",
    "            .select('userId', 'avg(count)')  \\\n",
    "            .withColumnRenamed('avg(count)', 'avg_game_clicks_per_hour')\n",
    "user_gameclicks.count()"
   ]
  },
  {
   "cell_type": "code",
   "execution_count": 115,
   "metadata": {
    "collapsed": false
   },
   "outputs": [
    {
     "data": {
      "text/plain": [
       "[Row(userId=2231, avg_game_clicks_per_hour=1.5963636363636364),\n",
       " Row(userId=1631, avg_game_clicks_per_hour=1.6213235294117647),\n",
       " Row(userId=2031, avg_game_clicks_per_hour=8.08626198083067),\n",
       " Row(userId=231, avg_game_clicks_per_hour=2.3248407643312103),\n",
       " Row(userId=2032, avg_game_clicks_per_hour=2.051051051051051)]"
      ]
     },
     "execution_count": 115,
     "metadata": {},
     "output_type": "execute_result"
    }
   ],
   "source": [
    "user_gameclicks.take(5)"
   ]
  },
  {
   "cell_type": "code",
   "execution_count": 139,
   "metadata": {
    "collapsed": false
   },
   "outputs": [
    {
     "data": {
      "text/plain": [
       "543"
      ]
     },
     "execution_count": 139,
     "metadata": {},
     "output_type": "execute_result"
    }
   ],
   "source": [
    "df = user_gameclicks.join(user_adclicks, 'userId').join(user_buyclicks, 'userId')\n",
    "df = df.drop('userId')\n",
    "df.count()"
   ]
  },
  {
   "cell_type": "code",
   "execution_count": 140,
   "metadata": {
    "collapsed": false
   },
   "outputs": [
    {
     "data": {
      "text/plain": [
       "[Row(avg_game_clicks_per_hour=2.3248407643312103, Total_ad_Clicks=19, Total_buy($)=63.0),\n",
       " Row(avg_game_clicks_per_hour=2.051051051051051, Total_ad_Clicks=39, Total_buy($)=20.0),\n",
       " Row(avg_game_clicks_per_hour=1.3732057416267942, Total_ad_Clicks=37, Total_buy($)=28.0),\n",
       " Row(avg_game_clicks_per_hour=2.629139072847682, Total_ad_Clicks=34, Total_buy($)=95.0),\n",
       " Row(avg_game_clicks_per_hour=1.9754601226993864, Total_ad_Clicks=41, Total_buy($)=53.0)]"
      ]
     },
     "execution_count": 140,
     "metadata": {},
     "output_type": "execute_result"
    }
   ],
   "source": [
    "df.take(5)"
   ]
  },
  {
   "cell_type": "code",
   "execution_count": 141,
   "metadata": {
    "collapsed": false
   },
   "outputs": [
    {
     "name": "stdout",
     "output_type": "stream",
     "text": [
      "543 3\n"
     ]
    }
   ],
   "source": [
    "print(df.count(), len(df.columns))"
   ]
  },
  {
   "cell_type": "code",
   "execution_count": 133,
   "metadata": {
    "collapsed": false
   },
   "outputs": [
    {
     "data": {
      "text/html": [
       "<div>\n",
       "<table border=\"1\" class=\"dataframe\">\n",
       "  <thead>\n",
       "    <tr style=\"text-align: right;\">\n",
       "      <th></th>\n",
       "      <th>0</th>\n",
       "      <th>1</th>\n",
       "      <th>2</th>\n",
       "      <th>3</th>\n",
       "      <th>4</th>\n",
       "    </tr>\n",
       "  </thead>\n",
       "  <tbody>\n",
       "    <tr>\n",
       "      <th>summary</th>\n",
       "      <td>count</td>\n",
       "      <td>mean</td>\n",
       "      <td>stddev</td>\n",
       "      <td>min</td>\n",
       "      <td>max</td>\n",
       "    </tr>\n",
       "    <tr>\n",
       "      <th>userId</th>\n",
       "      <td>543</td>\n",
       "      <td>1215.3499079189687</td>\n",
       "      <td>684.1697334741</td>\n",
       "      <td>1</td>\n",
       "      <td>2387</td>\n",
       "    </tr>\n",
       "    <tr>\n",
       "      <th>avg_game_clicks_per_hour</th>\n",
       "      <td>543</td>\n",
       "      <td>3.05137382268546</td>\n",
       "      <td>2.0878902003169872</td>\n",
       "      <td>1.3636363636363635</td>\n",
       "      <td>20.19298245614035</td>\n",
       "    </tr>\n",
       "    <tr>\n",
       "      <th>Total_ad_Clicks</th>\n",
       "      <td>543</td>\n",
       "      <td>29.373848987108655</td>\n",
       "      <td>15.216343215129635</td>\n",
       "      <td>1</td>\n",
       "      <td>67</td>\n",
       "    </tr>\n",
       "    <tr>\n",
       "      <th>Total_buy($)</th>\n",
       "      <td>543</td>\n",
       "      <td>39.34990791896869</td>\n",
       "      <td>41.221736767084764</td>\n",
       "      <td>1.0</td>\n",
       "      <td>223.0</td>\n",
       "    </tr>\n",
       "  </tbody>\n",
       "</table>\n",
       "</div>"
      ],
      "text/plain": [
       "                              0                   1                   2  \\\n",
       "summary                   count                mean              stddev   \n",
       "userId                      543  1215.3499079189687      684.1697334741   \n",
       "avg_game_clicks_per_hour    543    3.05137382268546  2.0878902003169872   \n",
       "Total_ad_Clicks             543  29.373848987108655  15.216343215129635   \n",
       "Total_buy($)                543   39.34990791896869  41.221736767084764   \n",
       "\n",
       "                                           3                  4  \n",
       "summary                                  min                max  \n",
       "userId                                     1               2387  \n",
       "avg_game_clicks_per_hour  1.3636363636363635  20.19298245614035  \n",
       "Total_ad_Clicks                            1                 67  \n",
       "Total_buy($)                             1.0              223.0  "
      ]
     },
     "execution_count": 133,
     "metadata": {},
     "output_type": "execute_result"
    }
   ],
   "source": [
    "df.describe().toPandas().transpose()"
   ]
  },
  {
   "cell_type": "code",
   "execution_count": 142,
   "metadata": {
    "collapsed": false
   },
   "outputs": [
    {
     "data": {
      "text/plain": [
       "['avg_game_clicks_per_hour', 'Total_ad_Clicks', 'Total_buy($)']"
      ]
     },
     "execution_count": 142,
     "metadata": {},
     "output_type": "execute_result"
    }
   ],
   "source": [
    "df.columns"
   ]
  },
  {
   "cell_type": "code",
   "execution_count": 143,
   "metadata": {
    "collapsed": true
   },
   "outputs": [],
   "source": [
    "featuresUsed = ['avg_game_clicks_per_hour', 'Total_ad_Clicks', 'Total_buy($)']\n",
    "assembler = VectorAssembler(inputCols=featuresUsed, outputCol=\"features_unscaled\")\n",
    "assembled = assembler.transform(df)"
   ]
  },
  {
   "cell_type": "code",
   "execution_count": 144,
   "metadata": {
    "collapsed": false
   },
   "outputs": [
    {
     "data": {
      "text/plain": [
       "[Row(avg_game_clicks_per_hour=2.3248407643312103, Total_ad_Clicks=19, Total_buy($)=63.0, features_unscaled=DenseVector([2.3248, 19.0, 63.0])),\n",
       " Row(avg_game_clicks_per_hour=2.051051051051051, Total_ad_Clicks=39, Total_buy($)=20.0, features_unscaled=DenseVector([2.0511, 39.0, 20.0])),\n",
       " Row(avg_game_clicks_per_hour=1.3732057416267942, Total_ad_Clicks=37, Total_buy($)=28.0, features_unscaled=DenseVector([1.3732, 37.0, 28.0])),\n",
       " Row(avg_game_clicks_per_hour=2.629139072847682, Total_ad_Clicks=34, Total_buy($)=95.0, features_unscaled=DenseVector([2.6291, 34.0, 95.0])),\n",
       " Row(avg_game_clicks_per_hour=1.9754601226993864, Total_ad_Clicks=41, Total_buy($)=53.0, features_unscaled=DenseVector([1.9755, 41.0, 53.0]))]"
      ]
     },
     "execution_count": 144,
     "metadata": {},
     "output_type": "execute_result"
    }
   ],
   "source": [
    "assembled.take(5)"
   ]
  },
  {
   "cell_type": "code",
   "execution_count": 145,
   "metadata": {
    "collapsed": true
   },
   "outputs": [],
   "source": [
    "scaler = StandardScaler(inputCol=\"features_unscaled\", outputCol=\"features\", withStd=True, withMean=True)\n",
    "scalerModel=scaler.fit(assembled)\n",
    "scaledData=scalerModel.transform(assembled)"
   ]
  },
  {
   "cell_type": "code",
   "execution_count": 146,
   "metadata": {
    "collapsed": false
   },
   "outputs": [
    {
     "data": {
      "text/plain": [
       "[Row(avg_game_clicks_per_hour=2.3248407643312103, Total_ad_Clicks=19, Total_buy($)=63.0, features_unscaled=DenseVector([2.3248, 19.0, 63.0]), features=DenseVector([-0.348, -0.6818, 0.5737])),\n",
       " Row(avg_game_clicks_per_hour=2.051051051051051, Total_ad_Clicks=39, Total_buy($)=20.0, features_unscaled=DenseVector([2.0511, 39.0, 20.0]), features=DenseVector([-0.4791, 0.6326, -0.4694])),\n",
       " Row(avg_game_clicks_per_hour=1.3732057416267942, Total_ad_Clicks=37, Total_buy($)=28.0, features_unscaled=DenseVector([1.3732, 37.0, 28.0]), features=DenseVector([-0.8038, 0.5012, -0.2753])),\n",
       " Row(avg_game_clicks_per_hour=2.629139072847682, Total_ad_Clicks=34, Total_buy($)=95.0, features_unscaled=DenseVector([2.6291, 34.0, 95.0]), features=DenseVector([-0.2022, 0.304, 1.35])),\n",
       " Row(avg_game_clicks_per_hour=1.9754601226993864, Total_ad_Clicks=41, Total_buy($)=53.0, features_unscaled=DenseVector([1.9755, 41.0, 53.0]), features=DenseVector([-0.5153, 0.7641, 0.3311]))]"
      ]
     },
     "execution_count": 146,
     "metadata": {},
     "output_type": "execute_result"
    }
   ],
   "source": [
    "scaledData.take(5)"
   ]
  },
  {
   "cell_type": "code",
   "execution_count": 147,
   "metadata": {
    "collapsed": false
   },
   "outputs": [
    {
     "data": {
      "text/plain": [
       "DataFrame[features: vector]"
      ]
     },
     "execution_count": 147,
     "metadata": {},
     "output_type": "execute_result"
    }
   ],
   "source": [
    "scaledData=scaledData.select(\"features\")\n",
    "scaledData.persist()"
   ]
  },
  {
   "cell_type": "code",
   "execution_count": 150,
   "metadata": {
    "collapsed": true
   },
   "outputs": [],
   "source": [
    "kmeans=KMeans(k=3, seed=1)\n",
    "model=kmeans.fit(scaledData)\n",
    "transformed=model.transform(scaledData)"
   ]
  },
  {
   "cell_type": "code",
   "execution_count": 151,
   "metadata": {
    "collapsed": false
   },
   "outputs": [
    {
     "data": {
      "text/plain": [
       "[array([ 0.34491307, -0.88428349, -0.4376942 ]),\n",
       " array([-0.21638267,  0.72866978,  2.00843352]),\n",
       " array([-0.34502313,  0.8193491 , -0.21235772])]"
      ]
     },
     "execution_count": 151,
     "metadata": {},
     "output_type": "execute_result"
    }
   ],
   "source": [
    "centers = model.clusterCenters()\n",
    "centers"
   ]
  },
  {
   "cell_type": "code",
   "execution_count": null,
   "metadata": {
    "collapsed": true
   },
   "outputs": [],
   "source": []
  }
 ],
 "metadata": {
  "kernelspec": {
   "display_name": "Python 3",
   "language": "python",
   "name": "python3"
  },
  "language_info": {
   "codemirror_mode": {
    "name": "ipython",
    "version": 3
   },
   "file_extension": ".py",
   "mimetype": "text/x-python",
   "name": "python",
   "nbconvert_exporter": "python",
   "pygments_lexer": "ipython3",
   "version": "3.5.1"
  }
 },
 "nbformat": 4,
 "nbformat_minor": 0
}
